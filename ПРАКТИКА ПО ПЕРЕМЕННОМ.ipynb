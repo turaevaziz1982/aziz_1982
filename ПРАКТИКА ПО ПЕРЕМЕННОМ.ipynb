{
 "cells": [
  {
   "cell_type": "code",
   "execution_count": 1,
   "id": "3e9fe543",
   "metadata": {},
   "outputs": [
    {
     "data": {
      "text/plain": [
       "16"
      ]
     },
     "execution_count": 1,
     "metadata": {},
     "output_type": "execute_result"
    }
   ],
   "source": [
    "8 + 8"
   ]
  },
  {
   "cell_type": "code",
   "execution_count": 2,
   "id": "79896dda",
   "metadata": {},
   "outputs": [
    {
     "data": {
      "text/plain": [
       "23"
      ]
     },
     "execution_count": 2,
     "metadata": {},
     "output_type": "execute_result"
    }
   ],
   "source": [
    "5 + 18"
   ]
  },
  {
   "cell_type": "code",
   "execution_count": 3,
   "id": "2daf088c",
   "metadata": {},
   "outputs": [
    {
     "data": {
      "text/plain": [
       "255"
      ]
     },
     "execution_count": 3,
     "metadata": {},
     "output_type": "execute_result"
    }
   ],
   "source": [
    "158 + 97"
   ]
  },
  {
   "cell_type": "code",
   "execution_count": 4,
   "id": "b0c810a4",
   "metadata": {},
   "outputs": [
    {
     "data": {
      "text/plain": [
       "15.4"
      ]
     },
     "execution_count": 4,
     "metadata": {},
     "output_type": "execute_result"
    }
   ],
   "source": [
    "5.6 + 9.8"
   ]
  },
  {
   "cell_type": "code",
   "execution_count": 5,
   "id": "fabd88a3",
   "metadata": {},
   "outputs": [
    {
     "data": {
      "text/plain": [
       "176.10000000000002"
      ]
     },
     "execution_count": 5,
     "metadata": {},
     "output_type": "execute_result"
    }
   ],
   "source": [
    "124.9 + 51.2"
   ]
  },
  {
   "cell_type": "code",
   "execution_count": 6,
   "id": "f8a54a4c",
   "metadata": {},
   "outputs": [
    {
     "data": {
      "text/plain": [
       "51.8"
      ]
     },
     "execution_count": 6,
     "metadata": {},
     "output_type": "execute_result"
    }
   ],
   "source": [
    "45 + 6.8"
   ]
  },
  {
   "cell_type": "code",
   "execution_count": 7,
   "id": "f79bb374",
   "metadata": {},
   "outputs": [
    {
     "data": {
      "text/plain": [
       "19.8"
      ]
     },
     "execution_count": 7,
     "metadata": {},
     "output_type": "execute_result"
    }
   ],
   "source": [
    "9.8 + 10"
   ]
  },
  {
   "cell_type": "code",
   "execution_count": 8,
   "id": "27ab9fe7",
   "metadata": {},
   "outputs": [
    {
     "data": {
      "text/plain": [
       "5.4"
      ]
     },
     "execution_count": 8,
     "metadata": {},
     "output_type": "execute_result"
    }
   ],
   "source": [
    "5.4 + 0"
   ]
  },
  {
   "cell_type": "code",
   "execution_count": 9,
   "id": "2a39b957",
   "metadata": {},
   "outputs": [
    {
     "data": {
      "text/plain": [
       "6.2"
      ]
     },
     "execution_count": 9,
     "metadata": {},
     "output_type": "execute_result"
    }
   ],
   "source": [
    "5.4 + 0.8"
   ]
  },
  {
   "cell_type": "code",
   "execution_count": 10,
   "id": "69acde89",
   "metadata": {},
   "outputs": [
    {
     "data": {
      "text/plain": [
       "int"
      ]
     },
     "execution_count": 10,
     "metadata": {},
     "output_type": "execute_result"
    }
   ],
   "source": [
    "type(9)"
   ]
  },
  {
   "cell_type": "code",
   "execution_count": 11,
   "id": "e3c94f59",
   "metadata": {},
   "outputs": [
    {
     "data": {
      "text/plain": [
       "int"
      ]
     },
     "execution_count": 11,
     "metadata": {},
     "output_type": "execute_result"
    }
   ],
   "source": [
    "type(0)"
   ]
  },
  {
   "cell_type": "code",
   "execution_count": 12,
   "id": "99f482cf",
   "metadata": {},
   "outputs": [
    {
     "data": {
      "text/plain": [
       "float"
      ]
     },
     "execution_count": 12,
     "metadata": {},
     "output_type": "execute_result"
    }
   ],
   "source": [
    "type(4.3)"
   ]
  },
  {
   "cell_type": "code",
   "execution_count": 13,
   "id": "11b2616b",
   "metadata": {},
   "outputs": [
    {
     "data": {
      "text/plain": [
       "float"
      ]
     },
     "execution_count": 13,
     "metadata": {},
     "output_type": "execute_result"
    }
   ],
   "source": [
    "type(3.0)"
   ]
  },
  {
   "cell_type": "code",
   "execution_count": 14,
   "id": "5ad148a4",
   "metadata": {},
   "outputs": [
    {
     "data": {
      "text/plain": [
       "3.0"
      ]
     },
     "execution_count": 14,
     "metadata": {},
     "output_type": "execute_result"
    }
   ],
   "source": [
    "float(3.0)"
   ]
  },
  {
   "cell_type": "code",
   "execution_count": 15,
   "id": "6ac47e7b",
   "metadata": {},
   "outputs": [
    {
     "data": {
      "text/plain": [
       "3.0"
      ]
     },
     "execution_count": 15,
     "metadata": {},
     "output_type": "execute_result"
    }
   ],
   "source": [
    "float(3)"
   ]
  },
  {
   "cell_type": "code",
   "execution_count": 16,
   "id": "f2db9d92",
   "metadata": {},
   "outputs": [
    {
     "data": {
      "text/plain": [
       "7.0"
      ]
     },
     "execution_count": 16,
     "metadata": {},
     "output_type": "execute_result"
    }
   ],
   "source": [
    "float(7)"
   ]
  },
  {
   "cell_type": "code",
   "execution_count": 17,
   "id": "9f06d501",
   "metadata": {},
   "outputs": [
    {
     "data": {
      "text/plain": [
       "5"
      ]
     },
     "execution_count": 17,
     "metadata": {},
     "output_type": "execute_result"
    }
   ],
   "source": [
    "int(5.3)"
   ]
  },
  {
   "cell_type": "code",
   "execution_count": 18,
   "id": "fa521629",
   "metadata": {},
   "outputs": [
    {
     "ename": "TypeError",
     "evalue": "unsupported operand type(s) for /: 'str' and 'str'",
     "output_type": "error",
     "traceback": [
      "\u001b[1;31m---------------------------------------------------------------------------\u001b[0m",
      "\u001b[1;31mTypeError\u001b[0m                                 Traceback (most recent call last)",
      "\u001b[1;32m~\\AppData\\Local\\Temp\\ipykernel_5696\\3606586120.py\u001b[0m in \u001b[0;36m<module>\u001b[1;34m\u001b[0m\n\u001b[1;32m----> 1\u001b[1;33m \u001b[1;34m'Привет'\u001b[0m \u001b[1;33m/\u001b[0m \u001b[1;34m'друг'\u001b[0m\u001b[1;33m\u001b[0m\u001b[1;33m\u001b[0m\u001b[0m\n\u001b[0m",
      "\u001b[1;31mTypeError\u001b[0m: unsupported operand type(s) for /: 'str' and 'str'"
     ]
    }
   ],
   "source": [
    "'Привет' / 'друг'"
   ]
  },
  {
   "cell_type": "code",
   "execution_count": 19,
   "id": "76d32e99",
   "metadata": {},
   "outputs": [
    {
     "data": {
      "text/plain": [
       "25"
      ]
     },
     "execution_count": 19,
     "metadata": {},
     "output_type": "execute_result"
    }
   ],
   "source": [
    "len('Продолжаем изучать PYTHON')"
   ]
  },
  {
   "cell_type": "code",
   "execution_count": 20,
   "id": "3c830bc3",
   "metadata": {},
   "outputs": [
    {
     "data": {
      "text/plain": [
       "19"
      ]
     },
     "execution_count": 20,
     "metadata": {},
     "output_type": "execute_result"
    }
   ],
   "source": [
    "len('Меня зовут Азизхужа')"
   ]
  },
  {
   "cell_type": "code",
   "execution_count": 21,
   "id": "eebc732c",
   "metadata": {},
   "outputs": [
    {
     "data": {
      "text/plain": [
       "18"
      ]
     },
     "execution_count": 21,
     "metadata": {},
     "output_type": "execute_result"
    }
   ],
   "source": [
    "len('What is your name?')"
   ]
  },
  {
   "cell_type": "code",
   "execution_count": 23,
   "id": "41785262",
   "metadata": {},
   "outputs": [
    {
     "data": {
      "text/plain": [
       "'What is your nameМеня зовут Азизхуджа'"
      ]
     },
     "execution_count": 23,
     "metadata": {},
     "output_type": "execute_result"
    }
   ],
   "source": [
    "'What is your name'  +  'Меня зовут Азизхуджа'"
   ]
  },
  {
   "cell_type": "code",
   "execution_count": 24,
   "id": "545cf1dc",
   "metadata": {},
   "outputs": [
    {
     "data": {
      "text/plain": [
       "'Как тебя зовут Меня зовут Азизхуджа '"
      ]
     },
     "execution_count": 24,
     "metadata": {},
     "output_type": "execute_result"
    }
   ],
   "source": [
    "\"Как тебя зовут \" + \"Меня зовут Азизхуджа \""
   ]
  },
  {
   "cell_type": "code",
   "execution_count": 25,
   "id": "f6d84aac",
   "metadata": {},
   "outputs": [
    {
     "data": {
      "text/plain": [
       "'Нужно повторить Нужно повторить '"
      ]
     },
     "execution_count": 25,
     "metadata": {},
     "output_type": "execute_result"
    }
   ],
   "source": [
    "\"Нужно повторить \" * 2"
   ]
  },
  {
   "cell_type": "code",
   "execution_count": 29,
   "id": "89aef8de",
   "metadata": {},
   "outputs": [
    {
     "data": {
      "text/plain": [
       "'Где ты? Где ты? Где ты? Где ты? Где ты? '"
      ]
     },
     "execution_count": 29,
     "metadata": {},
     "output_type": "execute_result"
    }
   ],
   "source": [
    "\"Где ты? \" * 5"
   ]
  },
  {
   "cell_type": "code",
   "execution_count": 30,
   "id": "a3d03872",
   "metadata": {},
   "outputs": [
    {
     "data": {
      "text/plain": [
       "str"
      ]
     },
     "execution_count": 30,
     "metadata": {},
     "output_type": "execute_result"
    }
   ],
   "source": [
    "type(\"Где ты?\")"
   ]
  },
  {
   "cell_type": "code",
   "execution_count": 31,
   "id": "557f0e6b",
   "metadata": {},
   "outputs": [
    {
     "data": {
      "text/plain": [
       "'58'"
      ]
     },
     "execution_count": 31,
     "metadata": {},
     "output_type": "execute_result"
    }
   ],
   "source": [
    "str(58)"
   ]
  },
  {
   "cell_type": "code",
   "execution_count": 32,
   "id": "52213ef1",
   "metadata": {},
   "outputs": [
    {
     "data": {
      "text/plain": [
       "'8.6'"
      ]
     },
     "execution_count": 32,
     "metadata": {},
     "output_type": "execute_result"
    }
   ],
   "source": [
    "str(8.6)"
   ]
  },
  {
   "cell_type": "code",
   "execution_count": 33,
   "id": "3dc9d11f",
   "metadata": {},
   "outputs": [
    {
     "data": {
      "text/plain": [
       "str"
      ]
     },
     "execution_count": 33,
     "metadata": {},
     "output_type": "execute_result"
    }
   ],
   "source": [
    "type(str(8.6))"
   ]
  },
  {
   "cell_type": "code",
   "execution_count": 34,
   "id": "62d07a14",
   "metadata": {},
   "outputs": [
    {
     "data": {
      "text/plain": [
       "str"
      ]
     },
     "execution_count": 34,
     "metadata": {},
     "output_type": "execute_result"
    }
   ],
   "source": [
    "type(str(58))"
   ]
  },
  {
   "cell_type": "code",
   "execution_count": 35,
   "id": "ab1c3aad",
   "metadata": {},
   "outputs": [
    {
     "data": {
      "text/plain": [
       "45"
      ]
     },
     "execution_count": 35,
     "metadata": {},
     "output_type": "execute_result"
    }
   ],
   "source": [
    "int(\"45\")"
   ]
  },
  {
   "cell_type": "code",
   "execution_count": 36,
   "id": "0f2ea7cc",
   "metadata": {},
   "outputs": [
    {
     "data": {
      "text/plain": [
       "5.6"
      ]
     },
     "execution_count": 36,
     "metadata": {},
     "output_type": "execute_result"
    }
   ],
   "source": [
    "float(\"5.6\")"
   ]
  },
  {
   "cell_type": "code",
   "execution_count": 37,
   "id": "295911ca",
   "metadata": {},
   "outputs": [
    {
     "data": {
      "text/plain": [
       "77"
      ]
     },
     "execution_count": 37,
     "metadata": {},
     "output_type": "execute_result"
    }
   ],
   "source": [
    "int(77)"
   ]
  },
  {
   "cell_type": "code",
   "execution_count": 38,
   "id": "5dc77916",
   "metadata": {},
   "outputs": [
    {
     "data": {
      "text/plain": [
       "45.6"
      ]
     },
     "execution_count": 38,
     "metadata": {},
     "output_type": "execute_result"
    }
   ],
   "source": [
    "float(45.6)"
   ]
  },
  {
   "cell_type": "code",
   "execution_count": 39,
   "id": "3c09080d",
   "metadata": {},
   "outputs": [
    {
     "data": {
      "text/plain": [
       "234"
      ]
     },
     "execution_count": 39,
     "metadata": {},
     "output_type": "execute_result"
    }
   ],
   "source": [
    "int(\"234\")"
   ]
  },
  {
   "cell_type": "code",
   "execution_count": 40,
   "id": "0851be5e",
   "metadata": {},
   "outputs": [
    {
     "data": {
      "text/plain": [
       "234"
      ]
     },
     "execution_count": 40,
     "metadata": {},
     "output_type": "execute_result"
    }
   ],
   "source": [
    "int(234.6)"
   ]
  },
  {
   "cell_type": "code",
   "execution_count": 41,
   "id": "625e1f08",
   "metadata": {},
   "outputs": [
    {
     "ename": "ValueError",
     "evalue": "invalid literal for int() with base 10: '234.6'",
     "output_type": "error",
     "traceback": [
      "\u001b[1;31m---------------------------------------------------------------------------\u001b[0m",
      "\u001b[1;31mValueError\u001b[0m                                Traceback (most recent call last)",
      "\u001b[1;32m~\\AppData\\Local\\Temp\\ipykernel_5696\\3759154974.py\u001b[0m in \u001b[0;36m<module>\u001b[1;34m\u001b[0m\n\u001b[1;32m----> 1\u001b[1;33m \u001b[0mint\u001b[0m\u001b[1;33m(\u001b[0m\u001b[1;34m\"234.6\"\u001b[0m\u001b[1;33m)\u001b[0m\u001b[1;33m\u001b[0m\u001b[1;33m\u001b[0m\u001b[0m\n\u001b[0m",
      "\u001b[1;31mValueError\u001b[0m: invalid literal for int() with base 10: '234.6'"
     ]
    }
   ],
   "source": [
    "int(\"234.6\")"
   ]
  },
  {
   "cell_type": "code",
   "execution_count": 42,
   "id": "934bb418",
   "metadata": {},
   "outputs": [
    {
     "ename": "ValueError",
     "evalue": "invalid literal for int() with base 10: 'apple'",
     "output_type": "error",
     "traceback": [
      "\u001b[1;31m---------------------------------------------------------------------------\u001b[0m",
      "\u001b[1;31mValueError\u001b[0m                                Traceback (most recent call last)",
      "\u001b[1;32m~\\AppData\\Local\\Temp\\ipykernel_5696\\785464250.py\u001b[0m in \u001b[0;36m<module>\u001b[1;34m\u001b[0m\n\u001b[1;32m----> 1\u001b[1;33m \u001b[0mint\u001b[0m\u001b[1;33m(\u001b[0m\u001b[1;34m\"apple\"\u001b[0m\u001b[1;33m)\u001b[0m\u001b[1;33m\u001b[0m\u001b[1;33m\u001b[0m\u001b[0m\n\u001b[0m",
      "\u001b[1;31mValueError\u001b[0m: invalid literal for int() with base 10: 'apple'"
     ]
    }
   ],
   "source": [
    "int(\"apple\")"
   ]
  },
  {
   "cell_type": "code",
   "execution_count": 43,
   "id": "c842a3e5",
   "metadata": {},
   "outputs": [],
   "source": [
    "int?"
   ]
  },
  {
   "cell_type": "code",
   "execution_count": 1,
   "id": "a3e24733",
   "metadata": {},
   "outputs": [],
   "source": [
    "# "
   ]
  },
  {
   "cell_type": "code",
   "execution_count": 7,
   "id": "23cad1c2",
   "metadata": {},
   "outputs": [
    {
     "data": {
      "text/plain": [
       "'Куртка стоит - 87 долларов, кросовки - 63, рубашка - 24, доставка - 10, курс доллара - 11350 сум'"
      ]
     },
     "execution_count": 7,
     "metadata": {},
     "output_type": "execute_result"
    }
   ],
   "source": [
    "'Куртка стоит - 87 долларов, кросовки - 63, рубашка - 24, доставка - 10, курс доллара - 11350 сум'"
   ]
  },
  {
   "cell_type": "code",
   "execution_count": 8,
   "id": "6b21aac0",
   "metadata": {},
   "outputs": [
    {
     "data": {
      "text/plain": [
       "987450"
      ]
     },
     "execution_count": 8,
     "metadata": {},
     "output_type": "execute_result"
    }
   ],
   "source": [
    "87 * 11350"
   ]
  },
  {
   "cell_type": "code",
   "execution_count": 9,
   "id": "8e2fbdf5",
   "metadata": {},
   "outputs": [
    {
     "data": {
      "text/plain": [
       "715050"
      ]
     },
     "execution_count": 9,
     "metadata": {},
     "output_type": "execute_result"
    }
   ],
   "source": [
    "63 * 11350"
   ]
  },
  {
   "cell_type": "code",
   "execution_count": 10,
   "id": "4bf88d78",
   "metadata": {},
   "outputs": [
    {
     "data": {
      "text/plain": [
       "272400"
      ]
     },
     "execution_count": 10,
     "metadata": {},
     "output_type": "execute_result"
    }
   ],
   "source": [
    "24 * 11350"
   ]
  },
  {
   "cell_type": "code",
   "execution_count": 11,
   "id": "1c789691",
   "metadata": {},
   "outputs": [
    {
     "data": {
      "text/plain": [
       "37833.333333333336"
      ]
     },
     "execution_count": 11,
     "metadata": {},
     "output_type": "execute_result"
    }
   ],
   "source": [
    "10 * 11350 / 3"
   ]
  },
  {
   "cell_type": "code",
   "execution_count": 12,
   "id": "846734db",
   "metadata": {},
   "outputs": [],
   "source": [
    "dollar = 11350"
   ]
  },
  {
   "cell_type": "code",
   "execution_count": 13,
   "id": "33ac0606",
   "metadata": {},
   "outputs": [
    {
     "data": {
      "text/plain": [
       "987450"
      ]
     },
     "execution_count": 13,
     "metadata": {},
     "output_type": "execute_result"
    }
   ],
   "source": [
    "87 * dollar"
   ]
  },
  {
   "cell_type": "code",
   "execution_count": 14,
   "id": "836d2baf",
   "metadata": {},
   "outputs": [
    {
     "data": {
      "text/plain": [
       "715050"
      ]
     },
     "execution_count": 14,
     "metadata": {},
     "output_type": "execute_result"
    }
   ],
   "source": [
    "63 * dollar"
   ]
  },
  {
   "cell_type": "code",
   "execution_count": 15,
   "id": "a8ea987a",
   "metadata": {},
   "outputs": [
    {
     "data": {
      "text/plain": [
       "272400"
      ]
     },
     "execution_count": 15,
     "metadata": {},
     "output_type": "execute_result"
    }
   ],
   "source": [
    "24 * dollar"
   ]
  },
  {
   "cell_type": "code",
   "execution_count": 17,
   "id": "ad963130",
   "metadata": {},
   "outputs": [],
   "source": [
    "price = 87"
   ]
  },
  {
   "cell_type": "code",
   "execution_count": 18,
   "id": "84c63466",
   "metadata": {},
   "outputs": [],
   "source": [
    "price2 = 63"
   ]
  },
  {
   "cell_type": "code",
   "execution_count": 19,
   "id": "c5c6afa5",
   "metadata": {},
   "outputs": [],
   "source": [
    "price3 = 24"
   ]
  },
  {
   "cell_type": "code",
   "execution_count": 20,
   "id": "556e5e4d",
   "metadata": {},
   "outputs": [
    {
     "data": {
      "text/plain": [
       "987450"
      ]
     },
     "execution_count": 20,
     "metadata": {},
     "output_type": "execute_result"
    }
   ],
   "source": [
    "price * dollar"
   ]
  },
  {
   "cell_type": "code",
   "execution_count": 22,
   "id": "807980cb",
   "metadata": {},
   "outputs": [
    {
     "data": {
      "text/plain": [
       "715050"
      ]
     },
     "execution_count": 22,
     "metadata": {},
     "output_type": "execute_result"
    }
   ],
   "source": [
    "price2 * dollar"
   ]
  },
  {
   "cell_type": "code",
   "execution_count": 23,
   "id": "930099eb",
   "metadata": {},
   "outputs": [
    {
     "data": {
      "text/plain": [
       "272400"
      ]
     },
     "execution_count": 23,
     "metadata": {},
     "output_type": "execute_result"
    }
   ],
   "source": [
    "price3 * dollar"
   ]
  },
  {
   "cell_type": "code",
   "execution_count": 24,
   "id": "07918d1b",
   "metadata": {},
   "outputs": [],
   "source": [
    "item = 'Куртка'"
   ]
  },
  {
   "cell_type": "code",
   "execution_count": 25,
   "id": "68bb609d",
   "metadata": {},
   "outputs": [
    {
     "data": {
      "text/plain": [
       "11350"
      ]
     },
     "execution_count": 25,
     "metadata": {},
     "output_type": "execute_result"
    }
   ],
   "source": [
    "dollar"
   ]
  },
  {
   "cell_type": "code",
   "execution_count": 26,
   "id": "b388556e",
   "metadata": {},
   "outputs": [
    {
     "data": {
      "text/plain": [
       "63"
      ]
     },
     "execution_count": 26,
     "metadata": {},
     "output_type": "execute_result"
    }
   ],
   "source": [
    "price2"
   ]
  },
  {
   "cell_type": "code",
   "execution_count": 27,
   "id": "1e57f785",
   "metadata": {},
   "outputs": [
    {
     "data": {
      "text/plain": [
       "24"
      ]
     },
     "execution_count": 27,
     "metadata": {},
     "output_type": "execute_result"
    }
   ],
   "source": [
    "price3"
   ]
  },
  {
   "cell_type": "code",
   "execution_count": 28,
   "id": "2f1833d4",
   "metadata": {},
   "outputs": [
    {
     "data": {
      "text/plain": [
       "int"
      ]
     },
     "execution_count": 28,
     "metadata": {},
     "output_type": "execute_result"
    }
   ],
   "source": [
    "type(dollar)"
   ]
  },
  {
   "cell_type": "code",
   "execution_count": 29,
   "id": "a8858457",
   "metadata": {},
   "outputs": [
    {
     "data": {
      "text/plain": [
       "int"
      ]
     },
     "execution_count": 29,
     "metadata": {},
     "output_type": "execute_result"
    }
   ],
   "source": [
    "type(price2)"
   ]
  },
  {
   "cell_type": "code",
   "execution_count": 30,
   "id": "aee0aeb5",
   "metadata": {},
   "outputs": [
    {
     "name": "stdout",
     "output_type": "stream",
     "text": [
      "87\n"
     ]
    }
   ],
   "source": [
    "print(price)"
   ]
  },
  {
   "cell_type": "code",
   "execution_count": 31,
   "id": "faa41019",
   "metadata": {},
   "outputs": [
    {
     "name": "stdout",
     "output_type": "stream",
     "text": [
      "11350\n"
     ]
    }
   ],
   "source": [
    "print(dollar)"
   ]
  },
  {
   "cell_type": "code",
   "execution_count": 32,
   "id": "3098c459",
   "metadata": {},
   "outputs": [
    {
     "name": "stdout",
     "output_type": "stream",
     "text": [
      "63\n"
     ]
    }
   ],
   "source": [
    "print(price2)"
   ]
  },
  {
   "cell_type": "code",
   "execution_count": 33,
   "id": "745b91ac",
   "metadata": {},
   "outputs": [
    {
     "name": "stdout",
     "output_type": "stream",
     "text": [
      "24\n"
     ]
    }
   ],
   "source": [
    "print(price3)"
   ]
  },
  {
   "cell_type": "code",
   "execution_count": 34,
   "id": "b09e5825",
   "metadata": {},
   "outputs": [
    {
     "name": "stdout",
     "output_type": "stream",
     "text": [
      "Куртка 987450\n"
     ]
    }
   ],
   "source": [
    "item = 'Куртка'\n",
    "price = 87\n",
    "print(item, price * dollar)"
   ]
  },
  {
   "cell_type": "code",
   "execution_count": 35,
   "id": "992107d1",
   "metadata": {},
   "outputs": [
    {
     "name": "stdout",
     "output_type": "stream",
     "text": [
      "Кросовки 715050\n"
     ]
    }
   ],
   "source": [
    "item = 'Кросовки'\n",
    "price = 63\n",
    "print(item, price * dollar)"
   ]
  },
  {
   "cell_type": "code",
   "execution_count": 36,
   "id": "e200abdc",
   "metadata": {},
   "outputs": [
    {
     "name": "stdout",
     "output_type": "stream",
     "text": [
      "Рубашка 272400\n"
     ]
    }
   ],
   "source": [
    "item = 'Рубашка'\n",
    "price = 24\n",
    "print(item, price * dollar)"
   ]
  },
  {
   "cell_type": "code",
   "execution_count": 41,
   "id": "9692cd50",
   "metadata": {},
   "outputs": [],
   "source": [
    "sales_price = price2 * 0.8"
   ]
  },
  {
   "cell_type": "code",
   "execution_count": 42,
   "id": "43aa0a4c",
   "metadata": {},
   "outputs": [
    {
     "data": {
      "text/plain": [
       "50.400000000000006"
      ]
     },
     "execution_count": 42,
     "metadata": {},
     "output_type": "execute_result"
    }
   ],
   "source": [
    "sales_price"
   ]
  },
  {
   "cell_type": "code",
   "execution_count": 43,
   "id": "8b3cd521",
   "metadata": {},
   "outputs": [],
   "source": [
    "retail_price = price2 * 2"
   ]
  },
  {
   "cell_type": "code",
   "execution_count": 44,
   "id": "34e45a1e",
   "metadata": {},
   "outputs": [
    {
     "data": {
      "text/plain": [
       "126"
      ]
     },
     "execution_count": 44,
     "metadata": {},
     "output_type": "execute_result"
    }
   ],
   "source": [
    "retail_price"
   ]
  },
  {
   "cell_type": "code",
   "execution_count": 45,
   "id": "3b35f7d2",
   "metadata": {},
   "outputs": [],
   "source": [
    "retail_price = price3 * 2"
   ]
  },
  {
   "cell_type": "code",
   "execution_count": 46,
   "id": "5ff20c0f",
   "metadata": {},
   "outputs": [
    {
     "data": {
      "text/plain": [
       "48"
      ]
     },
     "execution_count": 46,
     "metadata": {},
     "output_type": "execute_result"
    }
   ],
   "source": [
    "retail_price"
   ]
  },
  {
   "cell_type": "code",
   "execution_count": 47,
   "id": "3ce726f7",
   "metadata": {},
   "outputs": [],
   "source": [
    "price = price + 10"
   ]
  },
  {
   "cell_type": "code",
   "execution_count": 48,
   "id": "fe0badca",
   "metadata": {},
   "outputs": [
    {
     "data": {
      "text/plain": [
       "34"
      ]
     },
     "execution_count": 48,
     "metadata": {},
     "output_type": "execute_result"
    }
   ],
   "source": [
    "price"
   ]
  },
  {
   "cell_type": "code",
   "execution_count": 49,
   "id": "3ea21e82",
   "metadata": {},
   "outputs": [],
   "source": [
    "price2 = price2 + 5"
   ]
  },
  {
   "cell_type": "code",
   "execution_count": 50,
   "id": "0baa90da",
   "metadata": {},
   "outputs": [
    {
     "data": {
      "text/plain": [
       "68"
      ]
     },
     "execution_count": 50,
     "metadata": {},
     "output_type": "execute_result"
    }
   ],
   "source": [
    "price2"
   ]
  },
  {
   "cell_type": "code",
   "execution_count": 1,
   "id": "54624f82",
   "metadata": {},
   "outputs": [],
   "source": [
    "cost = 65300\n",
    "new_clients = 228\n",
    "CPA = cost / new_clients"
   ]
  },
  {
   "cell_type": "code",
   "execution_count": 2,
   "id": "6cbee66b",
   "metadata": {},
   "outputs": [
    {
     "name": "stdout",
     "output_type": "stream",
     "text": [
      "286.4035087719298\n"
     ]
    }
   ],
   "source": [
    "print(CPA)"
   ]
  },
  {
   "cell_type": "code",
   "execution_count": 3,
   "id": "20091847",
   "metadata": {},
   "outputs": [],
   "source": [
    "length = 25\n",
    "width = 15\n",
    "depth = 2.5"
   ]
  },
  {
   "cell_type": "code",
   "execution_count": 4,
   "id": "075d0473",
   "metadata": {},
   "outputs": [],
   "source": [
    "area =length * width\n",
    "perimeter = 2 * (length + width)\n",
    "volume = length * width * depth "
   ]
  },
  {
   "cell_type": "code",
   "execution_count": 5,
   "id": "8efecdd8",
   "metadata": {},
   "outputs": [
    {
     "name": "stdout",
     "output_type": "stream",
     "text": [
      "Площадь поверхности бассейна 375 квадратных метров\n",
      "Периметр поверхности бассейна 80 метров\n",
      "Объём бассейна 937.5 кубических метров\n"
     ]
    }
   ],
   "source": [
    "print('Площадь поверхности бассейна', area, 'квадратных метров')\n",
    "print('Периметр поверхности бассейна', perimeter, 'метров')\n",
    "print('Объём бассейна', volume, 'кубических метров')"
   ]
  },
  {
   "cell_type": "code",
   "execution_count": 16,
   "id": "58eeecf8",
   "metadata": {},
   "outputs": [
    {
     "name": "stdout",
     "output_type": "stream",
     "text": [
      "Мне потребуется 15 таблеток\n"
     ]
    }
   ],
   "source": [
    "days = 5\n",
    "pills_for_day = 3\n",
    "\n",
    "pills_count = days * pills_for_day\n",
    "print('Мне потребуется', pills_count,'таблеток')\n"
   ]
  },
  {
   "cell_type": "code",
   "execution_count": 9,
   "id": "33ecebe8",
   "metadata": {},
   "outputs": [
    {
     "ename": "SyntaxError",
     "evalue": "invalid syntax (1525263782.py, line 1)",
     "output_type": "error",
     "traceback": [
      "\u001b[1;36m  File \u001b[1;32m\"C:\\Users\\user\\AppData\\Local\\Temp\\ipykernel_13756\\1525263782.py\"\u001b[1;36m, line \u001b[1;32m1\u001b[0m\n\u001b[1;33m    print('Мне потребуется на курс', pills_count days, 'таблеток')\u001b[0m\n\u001b[1;37m                                                 ^\u001b[0m\n\u001b[1;31mSyntaxError\u001b[0m\u001b[1;31m:\u001b[0m invalid syntax\n"
     ]
    }
   ],
   "source": [
    "print('Мне потребуется на курс', pills_count days, 'таблеток')\n"
   ]
  },
  {
   "cell_type": "code",
   "execution_count": 18,
   "id": "6889ab7c",
   "metadata": {},
   "outputs": [
    {
     "name": "stdout",
     "output_type": "stream",
     "text": [
      " ПРИВЕТ МИР\n"
     ]
    },
    {
     "data": {
      "text/plain": [
       "' ПРИВЕТ МИР'"
      ]
     },
     "execution_count": 18,
     "metadata": {},
     "output_type": "execute_result"
    }
   ],
   "source": [
    "input()"
   ]
  },
  {
   "cell_type": "code",
   "execution_count": 20,
   "id": "72517feb",
   "metadata": {},
   "outputs": [
    {
     "ename": "NameError",
     "evalue": "name 'Азизхуджа' is not defined",
     "output_type": "error",
     "traceback": [
      "\u001b[1;31m---------------------------------------------------------------------------\u001b[0m",
      "\u001b[1;31mNameError\u001b[0m                                 Traceback (most recent call last)",
      "\u001b[1;32m~\\AppData\\Local\\Temp\\ipykernel_13756\\60348920.py\u001b[0m in \u001b[0;36m<module>\u001b[1;34m\u001b[0m\n\u001b[1;32m----> 1\u001b[1;33m \u001b[0mname\u001b[0m \u001b[1;33m=\u001b[0m \u001b[0minput\u001b[0m\u001b[1;33m(\u001b[0m\u001b[0mАзизхуджа\u001b[0m\u001b[1;33m)\u001b[0m\u001b[1;33m\u001b[0m\u001b[1;33m\u001b[0m\u001b[0m\n\u001b[0m\u001b[0;32m      2\u001b[0m \u001b[0mprint\u001b[0m\u001b[1;33m(\u001b[0m\u001b[0mname\u001b[0m\u001b[1;33m)\u001b[0m\u001b[1;33m\u001b[0m\u001b[1;33m\u001b[0m\u001b[0m\n\u001b[0;32m      3\u001b[0m \u001b[1;33m\u001b[0m\u001b[0m\n",
      "\u001b[1;31mNameError\u001b[0m: name 'Азизхуджа' is not defined"
     ]
    }
   ],
   "source": [
    "name = input(Азизхуджа)\n",
    "print(name)\n",
    "          \n",
    "    "
   ]
  },
  {
   "cell_type": "code",
   "execution_count": 21,
   "id": "3f68994d",
   "metadata": {},
   "outputs": [
    {
     "name": "stdout",
     "output_type": "stream",
     "text": [
      " Азизхуджа\n"
     ]
    }
   ],
   "source": [
    "name = input()"
   ]
  },
  {
   "cell_type": "code",
   "execution_count": 22,
   "id": "ab86712c",
   "metadata": {},
   "outputs": [
    {
     "name": "stdout",
     "output_type": "stream",
     "text": [
      "Меня зовут  Азизхуджа\n"
     ]
    }
   ],
   "source": [
    "print('Меня зовут', name)"
   ]
  },
  {
   "cell_type": "code",
   "execution_count": 23,
   "id": "4cb61a76",
   "metadata": {},
   "outputs": [
    {
     "name": "stdout",
     "output_type": "stream",
     "text": [
      " 74.60\n"
     ]
    }
   ],
   "source": [
    "dollar = float(input())"
   ]
  },
  {
   "cell_type": "code",
   "execution_count": 24,
   "id": "2384f4f9",
   "metadata": {},
   "outputs": [
    {
     "data": {
      "text/plain": [
       "10444.0"
      ]
     },
     "execution_count": 24,
     "metadata": {},
     "output_type": "execute_result"
    }
   ],
   "source": [
    "140 * dollar"
   ]
  },
  {
   "cell_type": "code",
   "execution_count": 1,
   "id": "e7133f09",
   "metadata": {},
   "outputs": [
    {
     "name": "stdout",
     "output_type": "stream",
     "text": [
      "Введите цену 45\n",
      "Введите курс  74.60\n",
      "Стоимось 3356.9999999999995\n"
     ]
    }
   ],
   "source": [
    "price = int(input('Введите цену' ))\n",
    "dollar = float(input('Введите курс '))\n",
    "print('Стоимось', price * dollar)\n"
   ]
  },
  {
   "cell_type": "code",
   "execution_count": 2,
   "id": "cb5298e1",
   "metadata": {},
   "outputs": [
    {
     "name": "stdout",
     "output_type": "stream",
     "text": [
      "Введите цену  45\n",
      "Введите курс 11350\n",
      "Стоимость 510750\n"
     ]
    }
   ],
   "source": [
    "price = int(input('Введите цену '))\n",
    "euro = int(input('Введите курс' ))\n",
    "print('Стоимость', price * euro)"
   ]
  },
  {
   "cell_type": "code",
   "execution_count": 5,
   "id": "b209feb6",
   "metadata": {},
   "outputs": [
    {
     "name": "stdout",
     "output_type": "stream",
     "text": [
      "Длина бассейна 5\n",
      "Ширина бассейна 4\n",
      "Объем 20.0\n"
     ]
    }
   ],
   "source": [
    "weidth = int(input('Длина бассейна' ))\n",
    "length = float(input('Ширина бассейна' ))\n",
    "print('Объем', weidth * length )\n"
   ]
  },
  {
   "cell_type": "code",
   "execution_count": 1,
   "id": "b95995a9",
   "metadata": {},
   "outputs": [
    {
     "name": "stdout",
     "output_type": "stream",
     "text": [
      " Азизхуджа\n"
     ]
    },
    {
     "data": {
      "text/plain": [
       "' Азизхуджа'"
      ]
     },
     "execution_count": 1,
     "metadata": {},
     "output_type": "execute_result"
    }
   ],
   "source": [
    "input()"
   ]
  },
  {
   "cell_type": "code",
   "execution_count": 2,
   "id": "f629555c",
   "metadata": {},
   "outputs": [
    {
     "name": "stdout",
     "output_type": "stream",
     "text": [
      "number\n"
     ]
    }
   ],
   "source": [
    "number = 4\n",
    "courn = 2\n",
    "if number >= 0:\n",
    "    print('number')"
   ]
  },
  {
   "cell_type": "code",
   "execution_count": 1,
   "id": "acc8eab0",
   "metadata": {},
   "outputs": [
    {
     "data": {
      "text/plain": [
       "False"
      ]
     },
     "execution_count": 1,
     "metadata": {},
     "output_type": "execute_result"
    }
   ],
   "source": [
    "3 > 5"
   ]
  },
  {
   "cell_type": "code",
   "execution_count": 2,
   "id": "eee2b20a",
   "metadata": {},
   "outputs": [
    {
     "data": {
      "text/plain": [
       "False"
      ]
     },
     "execution_count": 2,
     "metadata": {},
     "output_type": "execute_result"
    }
   ],
   "source": [
    "5<3"
   ]
  },
  {
   "cell_type": "code",
   "execution_count": 3,
   "id": "df87fbfe",
   "metadata": {},
   "outputs": [
    {
     "data": {
      "text/plain": [
       "True"
      ]
     },
     "execution_count": 3,
     "metadata": {},
     "output_type": "execute_result"
    }
   ],
   "source": [
    "5 > 3"
   ]
  },
  {
   "cell_type": "code",
   "execution_count": 4,
   "id": "df783b06",
   "metadata": {},
   "outputs": [
    {
     "name": "stdout",
     "output_type": "stream",
     "text": [
      "Введите курс доллара: 85.32\n",
      "Введите курс евро: 90.23\n"
     ]
    },
    {
     "data": {
      "text/plain": [
       "True"
      ]
     },
     "execution_count": 4,
     "metadata": {},
     "output_type": "execute_result"
    }
   ],
   "source": [
    "dollar = float(input('Введите курс доллара:'))\n",
    "euro = float(input('Введите курс евро:'))\n",
    "50 * dollar > 40 * euro"
   ]
  },
  {
   "cell_type": "code",
   "execution_count": null,
   "id": "fa5ca0fd",
   "metadata": {},
   "outputs": [],
   "source": []
  }
 ],
 "metadata": {
  "kernelspec": {
   "display_name": "Python 3 (ipykernel)",
   "language": "python",
   "name": "python3"
  },
  "language_info": {
   "codemirror_mode": {
    "name": "ipython",
    "version": 3
   },
   "file_extension": ".py",
   "mimetype": "text/x-python",
   "name": "python",
   "nbconvert_exporter": "python",
   "pygments_lexer": "ipython3",
   "version": "3.9.13"
  }
 },
 "nbformat": 4,
 "nbformat_minor": 5
}
